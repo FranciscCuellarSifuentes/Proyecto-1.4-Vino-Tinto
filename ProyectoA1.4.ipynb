{
 "cells": [
  {
   "cell_type": "markdown",
   "id": "0def6373-d53b-495b-99b2-4a00506b85f5",
   "metadata": {},
   "source": [
    "Utilizaremos el archivo de nombre “A1.4 Vino Tinto.csv”, donde podremos encontrar información\n",
    "para 1,599 observaciones distintas, con 11 mediciones para cada una de ellas, así como con una\n",
    "variable de salida, la calidad asignada a dicho vino. Los datos se descargaron del UCI Machine\n",
    "Learning Repository, y originalmente se reportaron en una publicación científica para la revista\n",
    "Decision Support Systems."
   ]
  },
  {
   "cell_type": "markdown",
   "id": "f78fa8f3-dc95-4d8f-a6eb-fa9114974a85",
   "metadata": {},
   "source": [
    "A continuación, generaremos un modelo de regresión lineal múltiple que contenga solamente\n",
    "las variables seleccionadas por un proceso de selección hacia adelante y eliminación hacia atrás.\n"
   ]
  },
  {
   "cell_type": "markdown",
   "id": "c32fd088-119a-4efb-a82f-89a86ef706f7",
   "metadata": {},
   "source": [
    "1. Importaremos los datos del archivo “Vino Tinto.csv” al ambiente de trabajo. Revisaremos las dimensiones\n",
    "del data frame e imprime en consola tanto dichas dimensiones como las primeras 5 filas\n",
    "de datos.\n"
   ]
  },
  {
   "cell_type": "code",
   "execution_count": 22,
   "id": "e94c2bdc-0935-45b7-ac0c-09756ccc2ca6",
   "metadata": {},
   "outputs": [
    {
     "data": {
      "text/plain": [
       "((1599, 12),\n",
       "    acidezFija  acidezVolatil  acidoCitrico  azucarResidual  cloruros  \\\n",
       " 0         7.4           0.70          0.00             1.9     0.076   \n",
       " 1         7.8           0.88          0.00             2.6     0.098   \n",
       " 2         7.8           0.76          0.04             2.3     0.092   \n",
       " 3        11.2           0.28          0.56             1.9     0.075   \n",
       " 4         7.4           0.70          0.00             1.9     0.076   \n",
       " \n",
       "    dioxidoAzufreLibre  dioxidoAzufreTotal  densidad    pH  sulfatos  alcohol  \\\n",
       " 0                11.0                34.0    0.9978  3.51      0.56      9.4   \n",
       " 1                25.0                67.0    0.9968  3.20      0.68      9.8   \n",
       " 2                15.0                54.0    0.9970  3.26      0.65      9.8   \n",
       " 3                17.0                60.0    0.9980  3.16      0.58      9.8   \n",
       " 4                11.0                34.0    0.9978  3.51      0.56      9.4   \n",
       " \n",
       "    calidad  \n",
       " 0        5  \n",
       " 1        5  \n",
       " 2        5  \n",
       " 3        6  \n",
       " 4        5  )"
      ]
     },
     "execution_count": 22,
     "metadata": {},
     "output_type": "execute_result"
    }
   ],
   "source": [
    "import pandas as pd\n",
    "df = pd.read_csv('A1.4 Vino Tinto.csv')\n",
    "df_shape = df.shape\n",
    "df_head = df.head()\n",
    "df_shape, df_head\n",
    "\n",
    "#df.describe()"
   ]
  },
  {
   "cell_type": "markdown",
   "id": "e16da725-0f91-4449-aa26-1d53f7ed64c5",
   "metadata": {},
   "source": [
    "2. Separaremos el data frame en datos de entrenamiento y datos de prueba con una proporción\n",
    "80/20. Es decir, el 80% de los datos se usarán para entrenar el modelo y el resto para\n",
    "validar los resultados. La partición será aleatoria.Imprimiremos en pantalla las dimensiones de ambos conjuntos de datos. "
   ]
  },
  {
   "cell_type": "code",
   "execution_count": 26,
   "id": "c62c1a2b-2532-4f54-9f45-ed71f62963e4",
   "metadata": {},
   "outputs": [
    {
     "data": {
      "text/plain": [
       "((1279, 11), (320, 11), (1279,), (320,))"
      ]
     },
     "execution_count": 26,
     "metadata": {},
     "output_type": "execute_result"
    }
   ],
   "source": [
    "from sklearn.model_selection import train_test_split\n",
    "\n",
    "# Separamos las variables independientes (X) de la variable dependiente (y)\n",
    "X = df.drop('calidad', axis=1)  # Variables independientes (sin la columna 'calidad')\n",
    "y = df['calidad']  # Variable dependiente (calidad)\n",
    "\n",
    "# Realizamos la división de entrenamiento (80%) y prueba (20%)\n",
    "X_train, X_test, y_train, y_test = train_test_split(X, y, test_size=0.2, random_state=7)\n",
    "\n",
    "(X_train.shape, X_test.shape, y_train.shape, y_test.shape)"
   ]
  },
  {
   "cell_type": "markdown",
   "id": "2a6062ea-8180-46bd-bc3f-8be70a747c6a",
   "metadata": {},
   "source": [
    "3. Generaremos la metodología de selección hacia adelante e imprimiremos en consola los índices o\n",
    "los nombres de las características seleccionadas.A continuación se muestra la descripción de los\n",
    "parámetros que que es recomendado usar:\n"
   ]
  },
  {
   "cell_type": "code",
   "execution_count": 30,
   "id": "18d9abfc-5cf3-4317-8ddd-ff0e63a232d8",
   "metadata": {},
   "outputs": [
    {
     "name": "stdout",
     "output_type": "stream",
     "text": [
      "Requirement already satisfied: mlxtend in c:\\ia\\lib\\site-packages (0.23.4)\n",
      "Requirement already satisfied: scipy>=1.2.1 in c:\\ia\\lib\\site-packages (from mlxtend) (1.13.1)\n",
      "Requirement already satisfied: numpy>=1.16.2 in c:\\ia\\lib\\site-packages (from mlxtend) (1.26.4)\n",
      "Requirement already satisfied: pandas>=0.24.2 in c:\\ia\\lib\\site-packages (from mlxtend) (2.2.2)\n",
      "Requirement already satisfied: scikit-learn>=1.3.1 in c:\\ia\\lib\\site-packages (from mlxtend) (1.5.1)\n",
      "Requirement already satisfied: matplotlib>=3.0.0 in c:\\ia\\lib\\site-packages (from mlxtend) (3.9.2)\n",
      "Requirement already satisfied: joblib>=0.13.2 in c:\\ia\\lib\\site-packages (from mlxtend) (1.4.2)\n",
      "Requirement already satisfied: contourpy>=1.0.1 in c:\\ia\\lib\\site-packages (from matplotlib>=3.0.0->mlxtend) (1.2.0)\n",
      "Requirement already satisfied: cycler>=0.10 in c:\\ia\\lib\\site-packages (from matplotlib>=3.0.0->mlxtend) (0.11.0)\n",
      "Requirement already satisfied: fonttools>=4.22.0 in c:\\ia\\lib\\site-packages (from matplotlib>=3.0.0->mlxtend) (4.51.0)\n",
      "Requirement already satisfied: kiwisolver>=1.3.1 in c:\\ia\\lib\\site-packages (from matplotlib>=3.0.0->mlxtend) (1.4.4)\n",
      "Requirement already satisfied: packaging>=20.0 in c:\\ia\\lib\\site-packages (from matplotlib>=3.0.0->mlxtend) (24.1)\n",
      "Requirement already satisfied: pillow>=8 in c:\\ia\\lib\\site-packages (from matplotlib>=3.0.0->mlxtend) (10.4.0)\n",
      "Requirement already satisfied: pyparsing>=2.3.1 in c:\\ia\\lib\\site-packages (from matplotlib>=3.0.0->mlxtend) (3.1.2)\n",
      "Requirement already satisfied: python-dateutil>=2.7 in c:\\ia\\lib\\site-packages (from matplotlib>=3.0.0->mlxtend) (2.9.0.post0)\n",
      "Requirement already satisfied: pytz>=2020.1 in c:\\ia\\lib\\site-packages (from pandas>=0.24.2->mlxtend) (2024.1)\n",
      "Requirement already satisfied: tzdata>=2022.7 in c:\\ia\\lib\\site-packages (from pandas>=0.24.2->mlxtend) (2023.3)\n",
      "Requirement already satisfied: threadpoolctl>=3.1.0 in c:\\ia\\lib\\site-packages (from scikit-learn>=1.3.1->mlxtend) (3.5.0)\n",
      "Requirement already satisfied: six>=1.5 in c:\\ia\\lib\\site-packages (from python-dateutil>=2.7->matplotlib>=3.0.0->mlxtend) (1.16.0)\n",
      "Note: you may need to restart the kernel to use updated packages.\n"
     ]
    }
   ],
   "source": [
    "pip install mlxtend\n"
   ]
  },
  {
   "cell_type": "markdown",
   "id": "67e15b66-a534-428e-8b28-6eabad8a47ab",
   "metadata": {},
   "source": [
    "a. estimator. Usaremos la función\n",
    "LinearRegression de la librería sklearn.linear_model, para generar la regresión lineal.\n"
   ]
  },
  {
   "cell_type": "markdown",
   "id": "5b89f654-8e1e-4e4e-b379-c1a8bc00ef66",
   "metadata": {},
   "source": [
    "b. k_features. Se puede seleccionar la cantidad de variables de salida que se desean,\n",
    "pero te recomiendo mejor usar un rango, y que el algoritmo determine el número\n",
    "adecuado. Por ejemplo, puedes definir el parámetro como (2,8), si te interesa que\n",
    "el método seleccione entre 2 y 8 variables."
   ]
  },
  {
   "cell_type": "markdown",
   "id": "95673044-b82f-40e2-95ed-707a618e2210",
   "metadata": {},
   "source": [
    "c. forward. Determina si se hace selección hacia adelante (True) o hacia atrás (False);\n",
    "en este caso queremos hacer selección hacia adelante = True.\n"
   ]
  },
  {
   "cell_type": "markdown",
   "id": "fe619fc8-6da5-42f6-9e89-8fec94f596fc",
   "metadata": {},
   "source": [
    "d. scoring. La métrica que se usará para determinar si un modelo es mejor que otro,\n",
    "te recomiendo definirla como ‘r2’ para usar la R cuadrada.\n"
   ]
  },
  {
   "cell_type": "markdown",
   "id": "c78ebc20-c9fa-4863-84f0-f99f718794e7",
   "metadata": {},
   "source": [
    "e. cv. Si se desea realizar validación cruzada, y cuántas instancias de la misma. Te\n",
    "recomiendo definir este parámetro como 10."
   ]
  },
  {
   "cell_type": "code",
   "execution_count": 35,
   "id": "eaa3fb16-b51d-4f03-b849-d84d9d98a8c2",
   "metadata": {},
   "outputs": [
    {
     "name": "stdout",
     "output_type": "stream",
     "text": [
      "Índices de características seleccionadas: (1, 2, 4, 6, 8, 9, 10)\n",
      "Nombres de características seleccionadas: Index(['acidezVolatil', 'acidoCitrico', 'cloruros', 'dioxidoAzufreTotal', 'pH',\n",
      "       'sulfatos', 'alcohol'],\n",
      "      dtype='object')\n"
     ]
    }
   ],
   "source": [
    "from mlxtend.feature_selection import SequentialFeatureSelector as SFS\n",
    "from sklearn.linear_model import LinearRegression\n",
    "from sklearn.model_selection import train_test_split\n",
    "\n",
    "# Modelo de regresión lineal\n",
    "estimator = LinearRegression()\n",
    "\n",
    "# Definimos el selector de características hacia adelante\n",
    "sfs = SFS(estimator,\n",
    "          k_features=(2, 8),        # Selección entre 2 y 8 características\n",
    "          forward=True,             # Selección hacia adelante\n",
    "          floating=False,           # No flotante, es decir, seleccionamos un número fijo de características\n",
    "          scoring='r2',             # Métrica de rendimiento R cuadrada\n",
    "          cv=10)                    # Validación cruzada con 10 divisiones\n",
    "\n",
    "# Ajustamos el selector a los datos de entrenamiento\n",
    "sfs.fit(X_train, y_train)\n",
    "\n",
    "# Imprimimos las características seleccionadas\n",
    "print(\"Índices de características seleccionadas:\", sfs.k_feature_idx_)\n",
    "print(\"Nombres de características seleccionadas:\", X_train.columns[list(sfs.k_feature_idx_)])\n"
   ]
  },
  {
   "cell_type": "markdown",
   "id": "72e77e15-2b53-4125-8379-710b86972e8c",
   "metadata": {},
   "source": [
    "Nos podemos percatar que las carácterísticas de mayor impacto en el modelo de acuerdo a la metodología utilizadason: 'acidezVolatil', 'acidoCitrico', 'cloruros', 'dioxidoAzufreTotal', 'pH', 'sulfatos', 'alcohol'."
   ]
  },
  {
   "cell_type": "markdown",
   "id": "fc1ee507-7874-4a2f-b645-ccd641a8f451",
   "metadata": {},
   "source": [
    "4. Ahora entrenaremos un modelo que solamente contenga las variables seleccionadas, predecir la\n",
    "respuesta en las observaciones de prueba y medir la capacidad de predicción del modelo\n",
    "usando la R cuadrada, imprimiendo dicho valor en consola.  "
   ]
  },
  {
   "cell_type": "code",
   "execution_count": 43,
   "id": "5046d958-a850-43c5-a9d8-f121dfedcba1",
   "metadata": {},
   "outputs": [
    {
     "name": "stdout",
     "output_type": "stream",
     "text": [
      "Valor de R cuadrada (R²) del modelo: 0.35194540293487375\n"
     ]
    }
   ],
   "source": [
    "from sklearn.metrics import r2_score\n",
    "\n",
    "# Seleccionamos las columnas correspondientes a las características seleccionadas en los datos de entrenamiento y prueba\n",
    "X_train_selected = X_train.iloc[:, list(sfs.k_feature_idx_)]  \n",
    "X_test_selected = X_test.iloc[:, list(sfs.k_feature_idx_)]  \n",
    "\n",
    "model = LinearRegression()\n",
    "\n",
    "# Entrenamos el modelo con las características seleccionadas\n",
    "model.fit(X_train_selected, y_train)\n",
    "\n",
    "# Realizamos predicciones sobre el conjunto de prueba con las características seleccionadas\n",
    "y_pred = model.predict(X_test_selected)\n",
    "\n",
    "# Calculamos el R cuadrada \n",
    "r2 = r2_score(y_test, y_pred)\n",
    "\n",
    "# Imprimimos el valor de R cuadrada\n",
    "print(\"Valor de R cuadrada (R²) del modelo:\", r2)\n"
   ]
  },
  {
   "cell_type": "markdown",
   "id": "f05c54a4-87d1-476d-948f-ffb94d3ff7fe",
   "metadata": {},
   "source": [
    "5. Realizaremos un proceso de selección hacia atrás a partir de las variables seleccionadas por\n",
    "el método de selección hacia adelante e imprimir en consola los índices o nombres de las\n",
    "variables seleccionadas."
   ]
  },
  {
   "cell_type": "code",
   "execution_count": 45,
   "id": "04530d5a-0bce-44e7-bf84-e6145591ed79",
   "metadata": {},
   "outputs": [
    {
     "name": "stdout",
     "output_type": "stream",
     "text": [
      "Índices de características seleccionadas por selección hacia atrás: (0, 2, 4, 5, 6)\n",
      "Nombres de características seleccionadas por selección hacia atrás: Index(['acidezVolatil', 'cloruros', 'pH', 'sulfatos', 'alcohol'], dtype='object')\n"
     ]
    }
   ],
   "source": [
    "# Realizamos la selección hacia atrás a partir de las variables seleccionadas por el método hacia adelante\n",
    "sfs_backward = SFS(estimator,\n",
    "                   k_features=(2, 5),         # Selección entre 2 y 5 características\n",
    "                   forward=False,             # Selección hacia atrás (False)\n",
    "                   floating=False,            # No flotante\n",
    "                   scoring='r2',              # Métrica de rendimiento R cuadrada\n",
    "                   cv=10)                     # Validación cruzada con 10 pliegues\n",
    "\n",
    "# Ajustamos el selector a las características seleccionadas por el método hacia adelante\n",
    "sfs_backward.fit(X_train_selected, y_train)\n",
    "\n",
    "\n",
    "print(\"Índices de características seleccionadas por selección hacia atrás:\", sfs_backward.k_feature_idx_)\n",
    "print(\"Nombres de características seleccionadas por selección hacia atrás:\", X_train_selected.columns[list(sfs_backward.k_feature_idx_)])\n"
   ]
  },
  {
   "cell_type": "markdown",
   "id": "471aa611-d7f7-4b6d-b489-268678367670",
   "metadata": {},
   "source": [
    "6. Repetiremos el paso 4, pero para un modelo que contenga solamente las variables\n",
    "seleccionadas en el paso 5. "
   ]
  },
  {
   "cell_type": "code",
   "execution_count": 49,
   "id": "47714537-1fb9-4ecb-b752-022f739325a3",
   "metadata": {},
   "outputs": [
    {
     "name": "stdout",
     "output_type": "stream",
     "text": [
      "Valor de R cuadrada (R²) del modelo con selección hacia atrás: 0.16547305770943854\n"
     ]
    }
   ],
   "source": [
    "# Seleccionamos las columnas correspondientes a las características seleccionadas en la selección hacia atrás para el conjunto de entrenamiento y prueba\n",
    "X_train_backward = X_train.iloc[:, list(sfs_backward.k_feature_idx_)]  \n",
    "X_test_backward = X_test.iloc[:, list(sfs_backward.k_feature_idx_)]  \n",
    "\n",
    "model_backward = LinearRegression()\n",
    "\n",
    "# Entrenamos el modelo con las características de selección hacia atrás.\n",
    "model_backward.fit(X_train_backward, y_train)\n",
    "\n",
    "# Realizamos predicciones sobre el conjunto de prueba.\n",
    "y_pred_backward = model_backward.predict(X_test_backward)\n",
    "\n",
    "\n",
    "r2_backward = r2_score(y_test, y_pred_backward)\n",
    "print(\"Valor de R cuadrada (R²) del modelo con selección hacia atrás:\", r2_backward)\n"
   ]
  },
  {
   "cell_type": "markdown",
   "id": "a5c8a402-1005-479d-a83e-bb53129c45a0",
   "metadata": {},
   "source": [
    "En este caso, la selección hacia adelante parece ser la mejor opción para este problema en particular, ya que permite mantener un conjunto de características que mejora el ajuste del modelo a los datos. Sin embargo, es importante recordar que R² es solo una medida del rendimiento, y podría ser útil explorar otras métricas o técnicas, como la validación cruzada o la regularización, para obtener un modelo más robusto.\n"
   ]
  },
  {
   "cell_type": "code",
   "execution_count": null,
   "id": "deebf8d0-b5aa-49c4-ae74-115a37d516ea",
   "metadata": {},
   "outputs": [],
   "source": []
  }
 ],
 "metadata": {
  "kernelspec": {
   "display_name": "Python [conda env:base] *",
   "language": "python",
   "name": "conda-base-py"
  },
  "language_info": {
   "codemirror_mode": {
    "name": "ipython",
    "version": 3
   },
   "file_extension": ".py",
   "mimetype": "text/x-python",
   "name": "python",
   "nbconvert_exporter": "python",
   "pygments_lexer": "ipython3",
   "version": "3.12.7"
  }
 },
 "nbformat": 4,
 "nbformat_minor": 5
}
